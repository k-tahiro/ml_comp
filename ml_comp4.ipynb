{
 "cells": [
  {
   "cell_type": "code",
   "execution_count": 1,
   "metadata": {
    "collapsed": true
   },
   "outputs": [],
   "source": [
    "import pandas as pd\n",
    "import numpy as np"
   ]
  },
  {
   "cell_type": "code",
   "execution_count": 2,
   "metadata": {
    "collapsed": true
   },
   "outputs": [],
   "source": [
    "import gc\n",
    "\n",
    "class BaselinePredictor:\n",
    "    def __init__(self, item_lambda: int or float=25, user_lambda: int or float=10):\n",
    "        self.item_lambda = item_lambda\n",
    "        self.user_lambda = user_lambda\n",
    "\n",
    "    def fit(self, train_df: 'pd.DataFrame'):\n",
    "        self.mu = train_df.rating.mean()\n",
    "\n",
    "        group_by_item = train_df.groupby('movieId')\n",
    "        self.item_bias = {\n",
    "            movie_id: (sum(group.rating) - group.size * self.mu) / (self.item_lambda + group.size)\n",
    "            for movie_id, group in group_by_item\n",
    "        }\n",
    "\n",
    "        group_by_user = train_df.groupby('userId')\n",
    "        self.user_bias = {\n",
    "            user_id: (sum(group.rating) - group.size * self.mu - self._calc_sum_item_bias(group.movieId)) / (self.user_lambda + group.size)\n",
    "            for user_id, group in group_by_user\n",
    "        }\n",
    "    \n",
    "    def _calc_sum_item_bias(self, ids: list):\n",
    "        return sum([\n",
    "            self.item_bias[movie_id]\n",
    "            for movie_id in ids\n",
    "        ])\n",
    "\n",
    "    def predict(self, test_df: 'pd.DataFrame'):\n",
    "        return test_df.apply(lambda x: self._predict(x.userId, x.movieId), axis=1).values\n",
    "\n",
    "    def _predict(self, u: int, i: int) -> float:\n",
    "        return self.mu + self.user_bias.get(u, 0) + self.item_bias.get(i, 0)\n",
    "\n",
    "    def clear(self):\n",
    "        del self.item_bias, self.user_bias\n",
    "        gc.collect()"
   ]
  },
  {
   "cell_type": "code",
   "execution_count": 3,
   "metadata": {
    "collapsed": true
   },
   "outputs": [],
   "source": [
    "train_df = pd.read_csv('data/train_ratings.csv')"
   ]
  },
  {
   "cell_type": "code",
   "execution_count": 4,
   "metadata": {
    "collapsed": true
   },
   "outputs": [],
   "source": [
    "param_grid = {\n",
    "    'item_lambda': [2 ** i for i in range(10)],\n",
    "    'user_lambda': [2 ** i for i in range(10)]\n",
    "}"
   ]
  },
  {
   "cell_type": "code",
   "execution_count": null,
   "metadata": {
    "collapsed": true
   },
   "outputs": [],
   "source": [
    "from sklearn.model_selection import KFold\n",
    "kf = KFold()"
   ]
  },
  {
   "cell_type": "code",
   "execution_count": null,
   "metadata": {},
   "outputs": [
    {
     "name": "stdout",
     "output_type": "stream",
     "text": [
      "START #0\n",
      "END #0\n",
      "START #1\n",
      "END #1\n",
      "START #2\n",
      "END #2\n",
      "item_lambda: 1, user_lambda: 1, rmse: 4.720782413395134\n",
      "START #0\n"
     ]
    }
   ],
   "source": [
    "for item_lambda in param_grid['item_lambda']:\n",
    "    for user_lambda in param_grid['user_lambda']:\n",
    "        bp = BaselinePredictor(item_lambda, user_lambda)\n",
    "        rmse = []\n",
    "        for index, (train_index, test_index) in enumerate(kf.split(train_df)):\n",
    "            print(f'START #{index}')\n",
    "            bp.fit(train_df.iloc[train_index, :])\n",
    "            y_pred = bp.predict(train_df.iloc[test_index, :])\n",
    "            bp.clear()\n",
    "            rmse.append(np.sqrt(((train_df.iloc[test_index, :].rating.values - y_pred) ** 2).mean()))\n",
    "            del y_pred\n",
    "            print(f'END #{index}')\n",
    "            \n",
    "        print(f'item_lambda: {item_lambda}, user_lambda: {user_lambda}, rmse: {sum(rmse) / len(rmse)}')"
   ]
  },
  {
   "cell_type": "code",
   "execution_count": null,
   "metadata": {
    "collapsed": true
   },
   "outputs": [],
   "source": []
  },
  {
   "cell_type": "code",
   "execution_count": null,
   "metadata": {
    "collapsed": true
   },
   "outputs": [],
   "source": []
  },
  {
   "cell_type": "code",
   "execution_count": null,
   "metadata": {
    "collapsed": true
   },
   "outputs": [],
   "source": []
  },
  {
   "cell_type": "code",
   "execution_count": null,
   "metadata": {
    "collapsed": true
   },
   "outputs": [],
   "source": [
    "\n"
   ]
  }
 ],
 "metadata": {
  "kernelspec": {
   "display_name": "Python 3",
   "language": "python",
   "name": "python3"
  },
  "language_info": {
   "codemirror_mode": {
    "name": "ipython",
    "version": 3
   },
   "file_extension": ".py",
   "mimetype": "text/x-python",
   "name": "python",
   "nbconvert_exporter": "python",
   "pygments_lexer": "ipython3",
   "version": "3.6.3"
  }
 },
 "nbformat": 4,
 "nbformat_minor": 2
}
